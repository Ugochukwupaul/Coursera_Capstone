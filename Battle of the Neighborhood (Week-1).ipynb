{
    "cells": [
        {
            "cell_type": "markdown",
            "metadata": {
                "collapsed": true
            },
            "source": "# The Battle of Neighborhoods"
        },
        {
            "cell_type": "markdown",
            "metadata": {},
            "source": "### 1. A description of the problem and a discussion of the background.\nFor this assignment, I have decided to review the city of Toronto and its neighborhood. My client is a store owner who deals in baseball accessories and would like to know which neighborhood in Toronto he should open a branch. His only requirement is that it must be close to any popular baseball field."
        },
        {
            "cell_type": "markdown",
            "metadata": {},
            "source": "### 2. Description of the data and how it will be used to solve the problem.\nFor this assignment, the data to be used will include:\n*   Foursquare api for the neighborhoods\n    This will be used to generate data relating to location,postal code, places and venues as learned in the course. A get request will then be used to get the top 10 most visited locations. The data will then be clustered to see which neighborh"
        },
        {
            "cell_type": "code",
            "execution_count": null,
            "metadata": {},
            "outputs": [],
            "source": ""
        }
    ],
    "metadata": {
        "kernelspec": {
            "display_name": "Python 3.7",
            "language": "python",
            "name": "python3"
        },
        "language_info": {
            "codemirror_mode": {
                "name": "ipython",
                "version": 3
            },
            "file_extension": ".py",
            "mimetype": "text/x-python",
            "name": "python",
            "nbconvert_exporter": "python",
            "pygments_lexer": "ipython3",
            "version": "3.7.9"
        }
    },
    "nbformat": 4,
    "nbformat_minor": 1
}