{
    "cells": [
        {
            "cell_type": "markdown",
            "metadata": {
                "collapsed": true
            },
            "source": "# The Battle of Neighborhoods"
        },
        {
            "cell_type": "markdown",
            "metadata": {},
            "source": "### 1. A description of the problem and a discussion of the background.\nFor this assignment, I have decided to review the city of Toronto and its neighborhood. My client is a store owner who deals in baseball accessories and would like to know which neighborhood in Toronto he should open a branch. His only requirement is that it must be close to any popular baseball field.\n\n#### Problem: \n    The problem here is a simple one. We need to leverage the foursquare location data to solve the problem of determining a suitable location to set up shop for a baseball accessory store.\n#### Audience:\n    This kind of project is suitable for businesses looking to expand and would like to know which neigborhood to expand into. This project is important to any business personnel looking to expand as this can be easily redone to suit any industry. Stakeholders will be interested in this so as to adequately maximize profits by ensuring that the location chosen will yield enough traffic into the store."
        },
        {
            "cell_type": "markdown",
            "metadata": {},
            "source": "### 2. Description of the data and how it will be used to solve the problem.\nFor this assignment, the data to be used will include:\n#### Foursquare api for the neighborhoods\n    This will be used to generate data relating to location,postal code, places and venues as learned in the course. A get request will then be used to get the top 10 most visited locations. The data will then be clustered to see which neighborhoods will be ideal to open a store at. \n1. In each neighborhood, we will generate a request to the foursquare api to get the most common venues in that neighborhood. \n2. We will the get the top 10 most common venues\n3. A clustering algorithm will then be used.\n4. Our algorithm will group "
        },
        {
            "cell_type": "code",
            "execution_count": null,
            "metadata": {},
            "outputs": [],
            "source": ""
        }
    ],
    "metadata": {
        "kernelspec": {
            "display_name": "Python 3.7",
            "language": "python",
            "name": "python3"
        },
        "language_info": {
            "codemirror_mode": {
                "name": "ipython",
                "version": 3
            },
            "file_extension": ".py",
            "mimetype": "text/x-python",
            "name": "python",
            "nbconvert_exporter": "python",
            "pygments_lexer": "ipython3",
            "version": "3.7.9"
        }
    },
    "nbformat": 4,
    "nbformat_minor": 1
}